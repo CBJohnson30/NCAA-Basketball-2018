{
 "cells": [
  {
   "cell_type": "code",
   "execution_count": 201,
   "metadata": {},
   "outputs": [],
   "source": [
    "import pandas as pd\n",
    "import numpy as np\n",
    "from sklearn.preprocessing import StandardScaler\n",
    "from sklearn.neighbors import KNeighborsClassifier\n",
    "from sklearn.model_selection import GridSearchCV, train_test_split, cross_val_predict, cross_val_score\n",
    "from sklearn.linear_model import LogisticRegression\n",
    "from sklearn.tree import DecisionTreeClassifier\n",
    "from sklearn.ensemble import GradientBoostingClassifier, AdaBoostClassifier, BaggingClassifier\n",
    "from sklearn.metrics import mean_squared_error, mean_absolute_error\n",
    "from sklearn.metrics import confusion_matrix\n",
    "from keras.models import Sequential\n",
    "from keras.layers import Dense, Dropout\n",
    "from keras.utils import to_categorical\n",
    "%matplotlib inline"
   ]
  },
  {
   "cell_type": "code",
   "execution_count": 202,
   "metadata": {
    "collapsed": true
   },
   "outputs": [],
   "source": [
    "from sklearn.metrics import confusion_matrix"
   ]
  },
  {
   "cell_type": "code",
   "execution_count": 203,
   "metadata": {
    "collapsed": true
   },
   "outputs": [],
   "source": [
    "df = pd.read_csv(\"./DataFiles_2018/test_df_all.csv\")"
   ]
  },
  {
   "cell_type": "code",
   "execution_count": 204,
   "metadata": {},
   "outputs": [
    {
     "data": {
      "text/html": [
       "<div>\n",
       "<style>\n",
       "    .dataframe thead tr:only-child th {\n",
       "        text-align: right;\n",
       "    }\n",
       "\n",
       "    .dataframe thead th {\n",
       "        text-align: left;\n",
       "    }\n",
       "\n",
       "    .dataframe tbody tr th {\n",
       "        vertical-align: top;\n",
       "    }\n",
       "</style>\n",
       "<table border=\"1\" class=\"dataframe\">\n",
       "  <thead>\n",
       "    <tr style=\"text-align: right;\">\n",
       "      <th></th>\n",
       "      <th>TeamID</th>\n",
       "      <th>OppTeamID</th>\n",
       "      <th>Won</th>\n",
       "      <th>years_coached</th>\n",
       "      <th>ConfAbbrev</th>\n",
       "      <th>conference_tourny_wins</th>\n",
       "      <th>conference_tourny_losses</th>\n",
       "      <th>num_of_sweet_16</th>\n",
       "      <th>num_of_elite_8</th>\n",
       "      <th>num_of_final_4</th>\n",
       "      <th>...</th>\n",
       "      <th>OppESR_mean</th>\n",
       "      <th>OppESR_min</th>\n",
       "      <th>OppRPI_max</th>\n",
       "      <th>OppRPI_mean</th>\n",
       "      <th>OppRPI_min</th>\n",
       "      <th>OppUSA_max</th>\n",
       "      <th>OppUSA_mean</th>\n",
       "      <th>OppUSA_min</th>\n",
       "      <th>Oppodds_to_win</th>\n",
       "      <th>Oppodds_to_final4</th>\n",
       "    </tr>\n",
       "  </thead>\n",
       "  <tbody>\n",
       "    <tr>\n",
       "      <th>0</th>\n",
       "      <td>1104</td>\n",
       "      <td>1272</td>\n",
       "      <td>1</td>\n",
       "      <td>3</td>\n",
       "      <td>2</td>\n",
       "      <td>2.0</td>\n",
       "      <td>1.0</td>\n",
       "      <td>7.0</td>\n",
       "      <td>1.0</td>\n",
       "      <td>0.0</td>\n",
       "      <td>...</td>\n",
       "      <td>96.45</td>\n",
       "      <td>77</td>\n",
       "      <td>169</td>\n",
       "      <td>128.00</td>\n",
       "      <td>94</td>\n",
       "      <td>35.0</td>\n",
       "      <td>35.0</td>\n",
       "      <td>35.0</td>\n",
       "      <td>100000</td>\n",
       "      <td>100000</td>\n",
       "    </tr>\n",
       "    <tr>\n",
       "      <th>1</th>\n",
       "      <td>1233</td>\n",
       "      <td>1107</td>\n",
       "      <td>0</td>\n",
       "      <td>8</td>\n",
       "      <td>21</td>\n",
       "      <td>3.0</td>\n",
       "      <td>0.0</td>\n",
       "      <td>0.0</td>\n",
       "      <td>0.0</td>\n",
       "      <td>0.0</td>\n",
       "      <td>...</td>\n",
       "      <td>119.91</td>\n",
       "      <td>75</td>\n",
       "      <td>177</td>\n",
       "      <td>137.00</td>\n",
       "      <td>116</td>\n",
       "      <td>35.0</td>\n",
       "      <td>35.0</td>\n",
       "      <td>35.0</td>\n",
       "      <td>100000</td>\n",
       "      <td>100000</td>\n",
       "    </tr>\n",
       "    <tr>\n",
       "      <th>2</th>\n",
       "      <td>1112</td>\n",
       "      <td>1319</td>\n",
       "      <td>1</td>\n",
       "      <td>14</td>\n",
       "      <td>6</td>\n",
       "      <td>3.0</td>\n",
       "      <td>0.0</td>\n",
       "      <td>19.0</td>\n",
       "      <td>11.0</td>\n",
       "      <td>4.0</td>\n",
       "      <td>...</td>\n",
       "      <td>338.18</td>\n",
       "      <td>331</td>\n",
       "      <td>317</td>\n",
       "      <td>295.07</td>\n",
       "      <td>265</td>\n",
       "      <td>35.0</td>\n",
       "      <td>35.0</td>\n",
       "      <td>35.0</td>\n",
       "      <td>100000</td>\n",
       "      <td>100000</td>\n",
       "    </tr>\n",
       "    <tr>\n",
       "      <th>3</th>\n",
       "      <td>1113</td>\n",
       "      <td>1226</td>\n",
       "      <td>1</td>\n",
       "      <td>5</td>\n",
       "      <td>6</td>\n",
       "      <td>0.0</td>\n",
       "      <td>1.0</td>\n",
       "      <td>0.0</td>\n",
       "      <td>0.0</td>\n",
       "      <td>0.0</td>\n",
       "      <td>...</td>\n",
       "      <td>237.27</td>\n",
       "      <td>198</td>\n",
       "      <td>335</td>\n",
       "      <td>279.07</td>\n",
       "      <td>242</td>\n",
       "      <td>35.0</td>\n",
       "      <td>35.0</td>\n",
       "      <td>35.0</td>\n",
       "      <td>100000</td>\n",
       "      <td>100000</td>\n",
       "    </tr>\n",
       "    <tr>\n",
       "      <th>4</th>\n",
       "      <td>1116</td>\n",
       "      <td>1359</td>\n",
       "      <td>1</td>\n",
       "      <td>16</td>\n",
       "      <td>2</td>\n",
       "      <td>2.0</td>\n",
       "      <td>1.0</td>\n",
       "      <td>11.0</td>\n",
       "      <td>10.0</td>\n",
       "      <td>6.0</td>\n",
       "      <td>...</td>\n",
       "      <td>286.45</td>\n",
       "      <td>263</td>\n",
       "      <td>299</td>\n",
       "      <td>281.43</td>\n",
       "      <td>251</td>\n",
       "      <td>35.0</td>\n",
       "      <td>35.0</td>\n",
       "      <td>35.0</td>\n",
       "      <td>100000</td>\n",
       "      <td>100000</td>\n",
       "    </tr>\n",
       "  </tbody>\n",
       "</table>\n",
       "<p>5 rows × 85 columns</p>\n",
       "</div>"
      ],
      "text/plain": [
       "   TeamID  OppTeamID  Won  years_coached  ConfAbbrev  conference_tourny_wins  \\\n",
       "0    1104       1272    1              3           2                     2.0   \n",
       "1    1233       1107    0              8          21                     3.0   \n",
       "2    1112       1319    1             14           6                     3.0   \n",
       "3    1113       1226    1              5           6                     0.0   \n",
       "4    1116       1359    1             16           2                     2.0   \n",
       "\n",
       "   conference_tourny_losses  num_of_sweet_16  num_of_elite_8  num_of_final_4  \\\n",
       "0                       1.0              7.0             1.0             0.0   \n",
       "1                       0.0              0.0             0.0             0.0   \n",
       "2                       0.0             19.0            11.0             4.0   \n",
       "3                       1.0              0.0             0.0             0.0   \n",
       "4                       1.0             11.0            10.0             6.0   \n",
       "\n",
       "         ...          OppESR_mean  OppESR_min  OppRPI_max  OppRPI_mean  \\\n",
       "0        ...                96.45          77         169       128.00   \n",
       "1        ...               119.91          75         177       137.00   \n",
       "2        ...               338.18         331         317       295.07   \n",
       "3        ...               237.27         198         335       279.07   \n",
       "4        ...               286.45         263         299       281.43   \n",
       "\n",
       "   OppRPI_min  OppUSA_max  OppUSA_mean  OppUSA_min  Oppodds_to_win  \\\n",
       "0          94        35.0         35.0        35.0          100000   \n",
       "1         116        35.0         35.0        35.0          100000   \n",
       "2         265        35.0         35.0        35.0          100000   \n",
       "3         242        35.0         35.0        35.0          100000   \n",
       "4         251        35.0         35.0        35.0          100000   \n",
       "\n",
       "   Oppodds_to_final4  \n",
       "0             100000  \n",
       "1             100000  \n",
       "2             100000  \n",
       "3             100000  \n",
       "4             100000  \n",
       "\n",
       "[5 rows x 85 columns]"
      ]
     },
     "execution_count": 204,
     "metadata": {},
     "output_type": "execute_result"
    }
   ],
   "source": [
    "df.head()"
   ]
  },
  {
   "cell_type": "code",
   "execution_count": 205,
   "metadata": {},
   "outputs": [
    {
     "data": {
      "text/plain": [
       "Index(['TeamID', 'OppTeamID', 'Won', 'years_coached', 'ConfAbbrev',\n",
       "       'conference_tourny_wins', 'conference_tourny_losses', 'num_of_sweet_16',\n",
       "       'num_of_elite_8', 'num_of_final_4', 'num_of_top_2', 'num_of_title',\n",
       "       'Ast', 'Blk', 'DR', 'FGA', 'FGA3', 'FGM', 'FGM3', 'FTA', 'FTM', 'OR',\n",
       "       'PF', 'Score', 'Stl', 'TO', 'Win%', 'AP_max', 'AP_mean', 'AP_min',\n",
       "       'EBP_max', 'EBP_mean', 'EBP_min', 'ESR_max', 'ESR_mean', 'ESR_min',\n",
       "       'RPI_max', 'RPI_mean', 'RPI_min', 'USA_max', 'USA_mean', 'USA_min',\n",
       "       'odds_to_win', 'odds_to_final4', 'Oppyears_coached', 'OppConfAbbrev',\n",
       "       'Oppconference_tourny_wins', 'Oppconference_tourny_losses',\n",
       "       'Oppnum_of_sweet_16', 'Oppnum_of_elite_8', 'Oppnum_of_final_4',\n",
       "       'Oppnum_of_top_2', 'Oppnum_of_title', 'OppAst', 'OppBlk', 'OppDR',\n",
       "       'OppFGA', 'OppFGA3', 'OppFGM', 'OppFGM3', 'OppFTA', 'OppFTM', 'OppOR',\n",
       "       'OppPF', 'OppScore', 'OppStl', 'OppTO', 'OppWin%', 'OppAP_max',\n",
       "       'OppAP_mean', 'OppAP_min', 'OppEBP_max', 'OppEBP_mean', 'OppEBP_min',\n",
       "       'OppESR_max', 'OppESR_mean', 'OppESR_min', 'OppRPI_max', 'OppRPI_mean',\n",
       "       'OppRPI_min', 'OppUSA_max', 'OppUSA_mean', 'OppUSA_min',\n",
       "       'Oppodds_to_win', 'Oppodds_to_final4'],\n",
       "      dtype='object')"
      ]
     },
     "execution_count": 205,
     "metadata": {},
     "output_type": "execute_result"
    }
   ],
   "source": [
    "df.columns"
   ]
  },
  {
   "cell_type": "code",
   "execution_count": 206,
   "metadata": {
    "collapsed": true
   },
   "outputs": [],
   "source": [
    "X= df.drop(\"Won\", axis=1)\n",
    "y = df[\"Won\"]"
   ]
  },
  {
   "cell_type": "code",
   "execution_count": 207,
   "metadata": {
    "collapsed": true
   },
   "outputs": [],
   "source": [
    " X_train, X_holdout, y_train, y_holdout = train_test_split(X, y, random_state=33)"
   ]
  },
  {
   "cell_type": "markdown",
   "metadata": {},
   "source": [
    "# Simple Logistic Regression"
   ]
  },
  {
   "cell_type": "code",
   "execution_count": 208,
   "metadata": {
    "collapsed": true
   },
   "outputs": [],
   "source": [
    "lr = LogisticRegression()\n",
    "ss_lr = StandardScaler()"
   ]
  },
  {
   "cell_type": "code",
   "execution_count": 209,
   "metadata": {},
   "outputs": [
    {
     "data": {
      "text/plain": [
       "0.7686440677966102"
      ]
     },
     "execution_count": 209,
     "metadata": {},
     "output_type": "execute_result"
    }
   ],
   "source": [
    "X_train_ss_lr = ss_lr.fit_transform(X_train)\n",
    "X_holdout_ss_lr = ss_lr.transform(X_holdout)\n",
    "lr.fit(X_train_ss_lr,y_train)\n",
    "lr.score(X_train_ss_lr,y_train)"
   ]
  },
  {
   "cell_type": "markdown",
   "metadata": {},
   "source": [
    "0.7621235941468134"
   ]
  },
  {
   "cell_type": "code",
   "execution_count": 210,
   "metadata": {},
   "outputs": [
    {
     "name": "stdout",
     "output_type": "stream",
     "text": [
      "                       features  importance  abs_import\n",
      "3                    ConfAbbrev   -1.087314    1.087314\n",
      "44                OppConfAbbrev    1.073787    1.073787\n",
      "25                         Win%    0.614065    0.614065\n",
      "33                     ESR_mean   -0.595978    0.595978\n",
      "66                      OppWin%   -0.488749    0.488749\n",
      "71                  OppEBP_mean   -0.338860    0.338860\n",
      "70                   OppEBP_max    0.330730    0.330730\n",
      "69                    OppAP_min   -0.314135    0.314135\n",
      "80                  OppUSA_mean    0.310779    0.310779\n",
      "49            Oppnum_of_final_4   -0.303640    0.303640\n",
      "30                     EBP_mean   -0.298810    0.298810\n",
      "31                      EBP_min    0.282379    0.282379\n",
      "68                   OppAP_mean   -0.267598    0.267598\n",
      "32                      ESR_max    0.258815    0.258815\n",
      "77                  OppRPI_mean    0.256432    0.256432\n",
      "67                    OppAP_max    0.245088    0.245088\n",
      "7                num_of_elite_8    0.234531    0.234531\n",
      "82               Oppodds_to_win    0.225243    0.225243\n",
      "73                   OppESR_max   -0.217759    0.217759\n",
      "51              Oppnum_of_title    0.202224    0.202224\n",
      "72                   OppEBP_min    0.196006    0.196006\n",
      "10                 num_of_title   -0.193892    0.193892\n",
      "13                           DR    0.185017    0.185017\n",
      "81                   OppUSA_min    0.167297    0.167297\n",
      "37                      RPI_min    0.152666    0.152666\n",
      "40                      USA_min    0.138766    0.138766\n",
      "64                       OppStl   -0.134386    0.134386\n",
      "36                     RPI_mean   -0.133281    0.133281\n",
      "54                        OppDR   -0.133238    0.133238\n",
      "46  Oppconference_tourny_losses    0.130548    0.130548\n",
      "24                           TO   -0.127972    0.127972\n",
      "26                       AP_max    0.125470    0.125470\n",
      "58                      OppFGM3   -0.119020    0.119020\n",
      "78                   OppRPI_min    0.115793    0.115793\n",
      "8                num_of_final_4    0.115052    0.115052\n",
      "76                   OppRPI_max   -0.114801    0.114801\n",
      "42               odds_to_final4   -0.111476    0.111476\n",
      "74                  OppESR_mean    0.109706    0.109706\n",
      "20                           OR    0.109090    0.109090\n",
      "15                         FGA3    0.107792    0.107792\n",
      "39                     USA_mean   -0.106942    0.106942\n",
      "29                      EBP_max   -0.102405    0.102405\n",
      "35                      RPI_max    0.095240    0.095240\n",
      "43             Oppyears_coached    0.093421    0.093421\n",
      "79                   OppUSA_max   -0.092490    0.092490\n",
      "38                      USA_max   -0.091784    0.091784\n",
      "56                      OppFGA3    0.087924    0.087924\n",
      "9                  num_of_top_2   -0.083047    0.083047\n",
      "55                       OppFGA    0.082590    0.082590\n",
      "14                          FGA   -0.080456    0.080456\n",
      "4        conference_tourny_wins    0.080216    0.080216\n",
      "83            Oppodds_to_final4   -0.079774    0.079774\n",
      "65                        OppTO    0.076927    0.076927\n",
      "45    Oppconference_tourny_wins   -0.076580    0.076580\n",
      "12                          Blk   -0.075455    0.075455\n",
      "50              Oppnum_of_top_2    0.073539    0.073539\n",
      "2                 years_coached   -0.071344    0.071344\n",
      "23                          Stl    0.067332    0.067332\n",
      "18                          FTA   -0.062023    0.062023\n",
      "34                      ESR_min    0.059849    0.059849\n",
      "75                   OppESR_min    0.058781    0.058781\n",
      "17                         FGM3   -0.055336    0.055336\n",
      "61                        OppOR   -0.055105    0.055105\n",
      "52                       OppAst    0.054678    0.054678\n",
      "53                       OppBlk    0.050869    0.050869\n",
      "5      conference_tourny_losses    0.045446    0.045446\n",
      "1                     OppTeamID   -0.043668    0.043668\n",
      "21                           PF    0.035716    0.035716\n",
      "0                        TeamID    0.035244    0.035244\n",
      "62                        OppPF    0.033331    0.033331\n",
      "60                       OppFTM    0.027592    0.027592\n",
      "11                          Ast   -0.027179    0.027179\n",
      "27                      AP_mean   -0.024896    0.024896\n",
      "28                       AP_min   -0.019926    0.019926\n",
      "41                  odds_to_win    0.017217    0.017217\n",
      "22                        Score   -0.015192    0.015192\n",
      "47           Oppnum_of_sweet_16    0.014591    0.014591\n",
      "48            Oppnum_of_elite_8    0.011660    0.011660\n",
      "57                       OppFGM   -0.010208    0.010208\n",
      "19                          FTM    0.008988    0.008988\n",
      "16                          FGM    0.007828    0.007828\n",
      "59                       OppFTA   -0.007216    0.007216\n",
      "63                     OppScore   -0.005393    0.005393\n",
      "6               num_of_sweet_16    0.000918    0.000918\n"
     ]
    }
   ],
   "source": [
    "coef = pd.DataFrame(lr.coef_).T\n",
    "col = pd.DataFrame(X_train.columns)\n",
    "feat_lr = pd.concat([col,coef], axis=1)\n",
    "feat_lr.columns = [\"features\", \"importance\"]\n",
    "feat_lr[\"abs_import\"] = abs(feat_lr[\"importance\"])\n",
    "\n",
    "print(feat_lr.sort_values(\"abs_import\", ascending=False).to_string())"
   ]
  },
  {
   "cell_type": "code",
   "execution_count": 211,
   "metadata": {},
   "outputs": [
    {
     "data": {
      "text/plain": [
       "0.7703389830508475"
      ]
     },
     "execution_count": 211,
     "metadata": {},
     "output_type": "execute_result"
    }
   ],
   "source": [
    "lr.score(X_holdout_ss_lr,y_holdout)"
   ]
  },
  {
   "cell_type": "markdown",
   "metadata": {},
   "source": [
    "# Simple KNN"
   ]
  },
  {
   "cell_type": "code",
   "execution_count": 212,
   "metadata": {
    "collapsed": true
   },
   "outputs": [],
   "source": [
    "knn = KNeighborsClassifier(n_neighbors=10,weights=\"distance\")\n",
    "ss_knn = StandardScaler()"
   ]
  },
  {
   "cell_type": "code",
   "execution_count": 213,
   "metadata": {},
   "outputs": [
    {
     "data": {
      "text/plain": [
       "0.9093220338983051"
      ]
     },
     "execution_count": 213,
     "metadata": {},
     "output_type": "execute_result"
    }
   ],
   "source": [
    "X_train_ss_knn = ss_knn.fit_transform(X_train)\n",
    "X_holdout_ss_knn = ss_knn.transform(X_holdout)\n",
    "knn.fit(X_train_ss_knn,y_train)\n",
    "knn.score(X_train_ss_knn,y_train)"
   ]
  },
  {
   "cell_type": "markdown",
   "metadata": {},
   "source": [
    "0.9118394001693071"
   ]
  },
  {
   "cell_type": "code",
   "execution_count": 214,
   "metadata": {},
   "outputs": [
    {
     "data": {
      "text/plain": [
       "0.7813559322033898"
      ]
     },
     "execution_count": 214,
     "metadata": {},
     "output_type": "execute_result"
    }
   ],
   "source": [
    "knn.score(X_holdout_ss_knn,y_holdout)"
   ]
  },
  {
   "cell_type": "markdown",
   "metadata": {},
   "source": [
    "0.6840768951759159"
   ]
  },
  {
   "cell_type": "code",
   "execution_count": 215,
   "metadata": {},
   "outputs": [
    {
     "data": {
      "text/plain": [
       "array([0.77291961, 0.74293785, 0.76271186, 0.72033898, 0.7553041 ])"
      ]
     },
     "execution_count": 215,
     "metadata": {},
     "output_type": "execute_result"
    }
   ],
   "source": [
    "cross_val_score(knn, X_train,y_train, cv=5)"
   ]
  },
  {
   "cell_type": "code",
   "execution_count": 216,
   "metadata": {},
   "outputs": [
    {
     "data": {
      "text/plain": [
       "array([[1746,  614],\n",
       "       [ 555, 1805]])"
      ]
     },
     "execution_count": 216,
     "metadata": {},
     "output_type": "execute_result"
    }
   ],
   "source": [
    "pred_knn = knn.predict(X)\n",
    "cm = confusion_matrix(y, pred_knn)\n",
    "cm"
   ]
  },
  {
   "cell_type": "markdown",
   "metadata": {},
   "source": [
    "array([[4568,  945],\n",
    "       [4044, 1469]])"
   ]
  },
  {
   "cell_type": "markdown",
   "metadata": {},
   "source": [
    "# Simple DecisionTree"
   ]
  },
  {
   "cell_type": "code",
   "execution_count": 217,
   "metadata": {},
   "outputs": [
    {
     "data": {
      "text/plain": [
       "array([0.74111675, 0.70304569, 0.67091837])"
      ]
     },
     "execution_count": 217,
     "metadata": {},
     "output_type": "execute_result"
    }
   ],
   "source": [
    "tree = DecisionTreeClassifier(max_depth=6, criterion=\"entropy\")\n",
    "tree.fit(X_train,y_train)\n",
    "cross_val_score(tree,X_holdout,y_holdout,cv=3)"
   ]
  },
  {
   "cell_type": "markdown",
   "metadata": {},
   "source": [
    "# GridSearch LR"
   ]
  },
  {
   "cell_type": "code",
   "execution_count": 218,
   "metadata": {
    "collapsed": true
   },
   "outputs": [],
   "source": [
    "lr = LogisticRegression()\n",
    "ss = StandardScaler"
   ]
  },
  {
   "cell_type": "code",
   "execution_count": 219,
   "metadata": {},
   "outputs": [
    {
     "name": "stdout",
     "output_type": "stream",
     "text": [
      "{'C': 1.0, 'tol': 0.001}\n"
     ]
    },
    {
     "data": {
      "text/plain": [
       "0.7502824858757062"
      ]
     },
     "execution_count": 219,
     "metadata": {},
     "output_type": "execute_result"
    }
   ],
   "source": [
    "X_train_ss_lr = ss_lr.fit_transform(X_train)\n",
    "X_holdout_ss_lr = ss_lr.transform(X_holdout)\n",
    "params = {\n",
    "    \"C\" : [1.0,2.0,3.0,4.0],\n",
    "    \"tol\" : [.0001, .001, .0005]\n",
    "}\n",
    "lr_gs = GridSearchCV(lr,params)\n",
    "lr_gs.fit(X_train_ss_lr,y_train)\n",
    "print(lr_gs.best_params_)\n",
    "lr_gs.best_score_"
   ]
  },
  {
   "cell_type": "markdown",
   "metadata": {},
   "source": [
    "0.7563187809892369"
   ]
  },
  {
   "cell_type": "code",
   "execution_count": null,
   "metadata": {},
   "outputs": [],
   "source": []
  },
  {
   "cell_type": "code",
   "execution_count": 220,
   "metadata": {},
   "outputs": [
    {
     "data": {
      "text/plain": [
       "0.7703389830508475"
      ]
     },
     "execution_count": 220,
     "metadata": {},
     "output_type": "execute_result"
    }
   ],
   "source": [
    "lr_gs.score(X_holdout_ss_lr,y_holdout)"
   ]
  },
  {
   "cell_type": "markdown",
   "metadata": {},
   "source": [
    "# GridSearch KNN"
   ]
  },
  {
   "cell_type": "code",
   "execution_count": 221,
   "metadata": {
    "collapsed": true
   },
   "outputs": [],
   "source": [
    "knn = KNeighborsClassifier()\n",
    "ss_knn = StandardScaler()"
   ]
  },
  {
   "cell_type": "code",
   "execution_count": 222,
   "metadata": {},
   "outputs": [
    {
     "name": "stdout",
     "output_type": "stream",
     "text": [
      "{'n_neighbors': 40, 'p': 2, 'weights': 'distance'}\n"
     ]
    },
    {
     "data": {
      "text/plain": [
       "0.7649717514124293"
      ]
     },
     "execution_count": 222,
     "metadata": {},
     "output_type": "execute_result"
    }
   ],
   "source": [
    "X_train_ss_knn = ss_knn.fit_transform(X_train)\n",
    "X_holdout_ss_knn = ss_knn.transform(X_holdout)\n",
    "params = {\n",
    "    \"n_neighbors\" : [35,40,50,55,60],\n",
    "    \"weights\" : [\"uniform\", \"distance\"],\n",
    "    \"p\" : [1,2]\n",
    "}\n",
    "knn_gs = GridSearchCV(knn,params)\n",
    "knn_gs.fit(X_train_ss_knn,y_train)\n",
    "print(knn_gs.best_params_)\n",
    "knn_gs.best_score_"
   ]
  },
  {
   "cell_type": "markdown",
   "metadata": {},
   "source": [
    "0.7322529931067844"
   ]
  },
  {
   "cell_type": "code",
   "execution_count": 223,
   "metadata": {},
   "outputs": [
    {
     "data": {
      "text/plain": [
       "0.7966101694915254"
      ]
     },
     "execution_count": 223,
     "metadata": {},
     "output_type": "execute_result"
    }
   ],
   "source": [
    "knn_gs.score(X_holdout_ss_knn,y_holdout)"
   ]
  },
  {
   "cell_type": "code",
   "execution_count": 224,
   "metadata": {},
   "outputs": [
    {
     "data": {
      "text/plain": [
       "array([[1815,  545],\n",
       "       [ 593, 1767]])"
      ]
     },
     "execution_count": 224,
     "metadata": {},
     "output_type": "execute_result"
    }
   ],
   "source": [
    "pred_knn_gs = knn_gs.predict(X)\n",
    "cm = confusion_matrix(y, pred_knn_gs)\n",
    "cm"
   ]
  },
  {
   "cell_type": "markdown",
   "metadata": {},
   "source": [
    "array([[4769,  744],\n",
    "       [2346, 3167]])"
   ]
  },
  {
   "cell_type": "markdown",
   "metadata": {},
   "source": [
    "# GridSearch Decision Tree"
   ]
  },
  {
   "cell_type": "code",
   "execution_count": null,
   "metadata": {
    "collapsed": true
   },
   "outputs": [],
   "source": []
  },
  {
   "cell_type": "code",
   "execution_count": 225,
   "metadata": {},
   "outputs": [
    {
     "name": "stdout",
     "output_type": "stream",
     "text": [
      "{'criterion': 'gini', 'max_depth': 5, 'max_features': None}\n"
     ]
    },
    {
     "data": {
      "text/plain": [
       "0.7406779661016949"
      ]
     },
     "execution_count": 225,
     "metadata": {},
     "output_type": "execute_result"
    }
   ],
   "source": [
    "tree = DecisionTreeClassifier()\n",
    "params = {\n",
    "    \"max_depth\" : [None,5,8],\n",
    "    \"criterion\" : [\"gini\", \"entropy\"],\n",
    "    \"max_features\" : [None,10,.5,\"sqrt\"]\n",
    "}\n",
    "tree_gs = GridSearchCV(tree,params)\n",
    "tree_gs.fit(X_train,y_train)\n",
    "print(tree_gs.best_params_)\n",
    "\n",
    "tree_gs.best_score_"
   ]
  },
  {
   "cell_type": "markdown",
   "metadata": {},
   "source": [
    "0.7292296529205466"
   ]
  },
  {
   "cell_type": "code",
   "execution_count": 226,
   "metadata": {},
   "outputs": [
    {
     "data": {
      "text/plain": [
       "0.6228813559322034"
      ]
     },
     "execution_count": 226,
     "metadata": {},
     "output_type": "execute_result"
    }
   ],
   "source": [
    "lr_gs.score(X_holdout,y_holdout)"
   ]
  },
  {
   "cell_type": "markdown",
   "metadata": {},
   "source": [
    "0.5937179924889041"
   ]
  },
  {
   "cell_type": "markdown",
   "metadata": {},
   "source": [
    "# Boosting"
   ]
  },
  {
   "cell_type": "code",
   "execution_count": 227,
   "metadata": {},
   "outputs": [
    {
     "name": "stdout",
     "output_type": "stream",
     "text": [
      "0.7494350282485875\n"
     ]
    },
    {
     "data": {
      "text/plain": [
       "{'base_estimator': LogisticRegression(C=1.0, class_weight=None, dual=False, fit_intercept=True,\n",
       "           intercept_scaling=1, max_iter=100, multi_class='ovr', n_jobs=1,\n",
       "           penalty='l2', random_state=None, solver='liblinear', tol=0.0001,\n",
       "           verbose=0, warm_start=False),\n",
       " 'learning_rate': 0.5,\n",
       " 'n_estimators': 50}"
      ]
     },
     "execution_count": 227,
     "metadata": {},
     "output_type": "execute_result"
    }
   ],
   "source": [
    "ada = AdaBoostClassifier(random_state=33)\n",
    "ada_params = {\n",
    "    \"base_estimator\" : [LogisticRegression()],\n",
    "    \"n_estimators\" : [30,40,50,60],\n",
    "    \"learning_rate\" : [1.0, 2.0, .5]\n",
    "}\n",
    "gs_ada = GridSearchCV(ada,ada_params)\n",
    "gs_ada.fit(X_train, y_train)\n",
    "print(gs_ada.best_score_)\n",
    "gs_ada.best_params_"
   ]
  },
  {
   "cell_type": "markdown",
   "metadata": {},
   "source": [
    "0.7557141129519893"
   ]
  },
  {
   "cell_type": "code",
   "execution_count": 228,
   "metadata": {},
   "outputs": [
    {
     "data": {
      "text/plain": [
       "array([[1814,  546],\n",
       "       [ 555, 1805]])"
      ]
     },
     "execution_count": 228,
     "metadata": {},
     "output_type": "execute_result"
    }
   ],
   "source": [
    "pred_ada_bc = gs_ada.predict(X)\n",
    "cm = confusion_matrix(y, pred_ada_bc)\n",
    "cm"
   ]
  },
  {
   "cell_type": "markdown",
   "metadata": {},
   "source": [
    "array([[4191, 1322],\n",
    "       [1342, 4171]])"
   ]
  },
  {
   "cell_type": "code",
   "execution_count": 229,
   "metadata": {},
   "outputs": [
    {
     "name": "stdout",
     "output_type": "stream",
     "text": [
      "0.7624293785310734\n"
     ]
    },
    {
     "data": {
      "text/plain": [
       "{'base_estimator': LogisticRegression(C=1.0, class_weight=None, dual=False, fit_intercept=True,\n",
       "           intercept_scaling=1, max_iter=100, multi_class='ovr', n_jobs=1,\n",
       "           penalty='l2', random_state=None, solver='liblinear', tol=0.0001,\n",
       "           verbose=0, warm_start=False),\n",
       " 'max_features': 0.5,\n",
       " 'n_estimators': 10}"
      ]
     },
     "execution_count": 229,
     "metadata": {},
     "output_type": "execute_result"
    }
   ],
   "source": [
    "bc = BaggingClassifier(random_state=33)\n",
    "bc_params = {\n",
    "    \"base_estimator\" : [LogisticRegression(),KNeighborsClassifier(n_neighbors= 55, p= 2, weights= 'distance')],\n",
    "    \"n_estimators\" : [10,20,30,35],\n",
    "    \"max_features\" : [.5, .75, 1]\n",
    "}\n",
    "gs_bc = GridSearchCV(bc, bc_params)\n",
    "gs_bc.fit(X_train, y_train)\n",
    "print(gs_bc.best_score_)\n",
    "gs_bc.best_params_"
   ]
  },
  {
   "cell_type": "markdown",
   "metadata": {},
   "source": [
    ".7581327851009796"
   ]
  },
  {
   "cell_type": "code",
   "execution_count": 230,
   "metadata": {},
   "outputs": [
    {
     "data": {
      "text/plain": [
       "array([[1800,  560],\n",
       "       [ 566, 1794]])"
      ]
     },
     "execution_count": 230,
     "metadata": {},
     "output_type": "execute_result"
    }
   ],
   "source": [
    "pred_gs_bc = gs_bc.predict(X)\n",
    "cm = confusion_matrix(y, pred_gs_bc)\n",
    "cm"
   ]
  },
  {
   "cell_type": "markdown",
   "metadata": {},
   "source": [
    "array([[4164, 1349],\n",
    "       [1321, 4192]])"
   ]
  },
  {
   "cell_type": "markdown",
   "metadata": {
    "collapsed": true
   },
   "source": [
    "# Nueral Networks"
   ]
  },
  {
   "cell_type": "code",
   "execution_count": 231,
   "metadata": {
    "collapsed": true
   },
   "outputs": [],
   "source": [
    "\n",
    "ss = StandardScaler()"
   ]
  },
  {
   "cell_type": "code",
   "execution_count": 232,
   "metadata": {},
   "outputs": [
    {
     "name": "stdout",
     "output_type": "stream",
     "text": [
      "Train on 3540 samples, validate on 1180 samples\n",
      "Epoch 1/30\n",
      "3540/3540 [==============================] - 1s 237us/step - loss: 0.5192 - acc: 0.7339 - val_loss: 0.4783 - val_acc: 0.7610\n",
      "Epoch 2/30\n",
      "3540/3540 [==============================] - 0s 58us/step - loss: 0.4709 - acc: 0.7641 - val_loss: 0.4616 - val_acc: 0.7788\n",
      "Epoch 3/30\n",
      "3540/3540 [==============================] - 0s 58us/step - loss: 0.4559 - acc: 0.7788 - val_loss: 0.4572 - val_acc: 0.7720\n",
      "Epoch 4/30\n",
      "3540/3540 [==============================] - 0s 53us/step - loss: 0.4432 - acc: 0.7864 - val_loss: 0.4620 - val_acc: 0.7737\n",
      "Epoch 5/30\n",
      "3540/3540 [==============================] - 0s 54us/step - loss: 0.4342 - acc: 0.7881 - val_loss: 0.4542 - val_acc: 0.7797\n",
      "Epoch 6/30\n",
      "3540/3540 [==============================] - 0s 56us/step - loss: 0.4233 - acc: 0.7955 - val_loss: 0.4584 - val_acc: 0.7839\n",
      "Epoch 7/30\n",
      "3540/3540 [==============================] - 0s 57us/step - loss: 0.4163 - acc: 0.7997 - val_loss: 0.4578 - val_acc: 0.7932\n",
      "Epoch 8/30\n",
      "3540/3540 [==============================] - 0s 58us/step - loss: 0.4025 - acc: 0.8099 - val_loss: 0.4683 - val_acc: 0.7712\n",
      "Epoch 9/30\n",
      "3540/3540 [==============================] - 0s 58us/step - loss: 0.3955 - acc: 0.8175 - val_loss: 0.4767 - val_acc: 0.7771\n",
      "Epoch 10/30\n",
      "3540/3540 [==============================] - 0s 58us/step - loss: 0.3873 - acc: 0.8167 - val_loss: 0.4672 - val_acc: 0.7797\n",
      "Epoch 11/30\n",
      "3540/3540 [==============================] - 0s 58us/step - loss: 0.3809 - acc: 0.8175 - val_loss: 0.4638 - val_acc: 0.7805\n",
      "Epoch 12/30\n",
      "3540/3540 [==============================] - 0s 58us/step - loss: 0.3699 - acc: 0.8325 - val_loss: 0.4741 - val_acc: 0.7847\n",
      "Epoch 13/30\n",
      "3540/3540 [==============================] - 0s 58us/step - loss: 0.3612 - acc: 0.8308 - val_loss: 0.4881 - val_acc: 0.7712\n",
      "Epoch 14/30\n",
      "3540/3540 [==============================] - 0s 58us/step - loss: 0.3537 - acc: 0.8362 - val_loss: 0.4838 - val_acc: 0.7907\n",
      "Epoch 15/30\n",
      "3540/3540 [==============================] - 0s 58us/step - loss: 0.3475 - acc: 0.8410 - val_loss: 0.4905 - val_acc: 0.7822\n",
      "Epoch 16/30\n",
      "3540/3540 [==============================] - 0s 53us/step - loss: 0.3373 - acc: 0.8429 - val_loss: 0.4880 - val_acc: 0.7847\n",
      "Epoch 17/30\n",
      "3540/3540 [==============================] - 0s 56us/step - loss: 0.3318 - acc: 0.8492 - val_loss: 0.5077 - val_acc: 0.7805\n",
      "Epoch 18/30\n",
      "3540/3540 [==============================] - 0s 56us/step - loss: 0.3253 - acc: 0.8489 - val_loss: 0.4977 - val_acc: 0.7737\n",
      "Epoch 19/30\n",
      "3540/3540 [==============================] - 0s 57us/step - loss: 0.3167 - acc: 0.8520 - val_loss: 0.5026 - val_acc: 0.7712\n",
      "Epoch 20/30\n",
      "3540/3540 [==============================] - 0s 58us/step - loss: 0.3093 - acc: 0.8565 - val_loss: 0.4980 - val_acc: 0.7754\n",
      "Epoch 21/30\n",
      "3540/3540 [==============================] - 0s 59us/step - loss: 0.3077 - acc: 0.8494 - val_loss: 0.5163 - val_acc: 0.7585\n",
      "Epoch 22/30\n",
      "3540/3540 [==============================] - 0s 58us/step - loss: 0.2999 - acc: 0.8588 - val_loss: 0.5217 - val_acc: 0.7797\n",
      "Epoch 23/30\n",
      "3540/3540 [==============================] - 0s 58us/step - loss: 0.2982 - acc: 0.8579 - val_loss: 0.5217 - val_acc: 0.7619\n",
      "Epoch 24/30\n",
      "3540/3540 [==============================] - 0s 56us/step - loss: 0.2870 - acc: 0.8630 - val_loss: 0.5394 - val_acc: 0.7619\n",
      "Epoch 25/30\n",
      "3540/3540 [==============================] - 0s 53us/step - loss: 0.2865 - acc: 0.8590 - val_loss: 0.5247 - val_acc: 0.7864\n",
      "Epoch 26/30\n",
      "3540/3540 [==============================] - ETA: 0s - loss: 0.2765 - acc: 0.861 - 0s 57us/step - loss: 0.2764 - acc: 0.8630 - val_loss: 0.5452 - val_acc: 0.7720\n",
      "Epoch 27/30\n",
      "3540/3540 [==============================] - 0s 56us/step - loss: 0.2772 - acc: 0.8664 - val_loss: 0.5474 - val_acc: 0.7559\n",
      "Epoch 28/30\n",
      "3540/3540 [==============================] - 0s 58us/step - loss: 0.2730 - acc: 0.8636 - val_loss: 0.5444 - val_acc: 0.7661\n",
      "Epoch 29/30\n",
      "3540/3540 [==============================] - 0s 58us/step - loss: 0.2613 - acc: 0.8768 - val_loss: 0.5814 - val_acc: 0.7720\n",
      "Epoch 30/30\n",
      "3540/3540 [==============================] - 0s 58us/step - loss: 0.2608 - acc: 0.8726 - val_loss: 0.5792 - val_acc: 0.7754\n"
     ]
    },
    {
     "data": {
      "text/plain": [
       "<keras.callbacks.History at 0x117d072e8>"
      ]
     },
     "execution_count": 232,
     "metadata": {},
     "output_type": "execute_result"
    }
   ],
   "source": [
    "X_train_ss = ss.fit_transform(X_train)\n",
    "X_holdout_ss = ss.transform(X_holdout)\n",
    "\n",
    "model = Sequential()\n",
    "model.add(Dense(80, input_dim=X.shape[1], activation=\"relu\"))\n",
    "model.add(Dense(40, activation=\"relu\"))\n",
    "model.add(Dense(20, activation=\"relu\"))\n",
    "model.add(Dense(1, activation=\"sigmoid\"))\n",
    "# ^^ always must have sigmoid for a binary classification problem ^^\n",
    "model.compile(optimizer=\"adam\", loss=\"binary_crossentropy\", metrics=[\"accuracy\"])\n",
    "\n",
    "model.fit(X_train_ss, y_train, validation_data=(X_holdout_ss, y_holdout), epochs=30)"
   ]
  },
  {
   "cell_type": "markdown",
   "metadata": {
    "collapsed": true
   },
   "source": [
    "8787/8787 [==============================] - 1s 58us/step - loss: 0.3222 - acc: 0.8447 - val_loss: 0.6929 - val_acc: 0.7054"
   ]
  },
  {
   "cell_type": "code",
   "execution_count": null,
   "metadata": {
    "collapsed": true
   },
   "outputs": [],
   "source": []
  },
  {
   "cell_type": "markdown",
   "metadata": {},
   "source": [
    "# Predictions\n",
    "- We are allowed two predictions for the Kaggle Compition. I will be choosing two models from above to predict with. "
   ]
  },
  {
   "cell_type": "code",
   "execution_count": 233,
   "metadata": {
    "collapsed": true
   },
   "outputs": [],
   "source": [
    "test = pd.read_csv(\"./DataFiles_2018/predict_on.csv\")"
   ]
  },
  {
   "cell_type": "code",
   "execution_count": 235,
   "metadata": {
    "collapsed": true
   },
   "outputs": [],
   "source": [
    "sample = pd.read_csv(\"./DataFiles_2018/SampleSubmissionStage2.csv\")"
   ]
  },
  {
   "cell_type": "code",
   "execution_count": 238,
   "metadata": {
    "collapsed": true
   },
   "outputs": [],
   "source": [
    "sample_gs_bc = sample.copy()\n",
    "sample_lr_gs = sample.copy()"
   ]
  },
  {
   "cell_type": "code",
   "execution_count": 240,
   "metadata": {},
   "outputs": [],
   "source": [
    "pred_gs_bc = gs_bc.predict_proba(test)[:,1]"
   ]
  },
  {
   "cell_type": "code",
   "execution_count": 241,
   "metadata": {},
   "outputs": [],
   "source": [
    "sample_gs_bc[\"Pred\"] = pred_gs_bc\n",
    "sample_gs_bc.to_csv(\"Sub_gs_bc.csv\", index=False)"
   ]
  },
  {
   "cell_type": "code",
   "execution_count": 245,
   "metadata": {},
   "outputs": [
    {
     "name": "stderr",
     "output_type": "stream",
     "text": [
      "/Users/chrisjohnson/anaconda3/lib/python3.6/site-packages/sklearn/linear_model/base.py:340: RuntimeWarning: overflow encountered in exp\n",
      "  np.exp(prob, prob)\n"
     ]
    }
   ],
   "source": [
    "pred_lr_gs = lr_gs.predict_proba(test)"
   ]
  },
  {
   "cell_type": "code",
   "execution_count": 246,
   "metadata": {},
   "outputs": [],
   "source": [
    "sample_lr_gs[\"Pred\"] = pred_lr_gs\n",
    "sample_lr_gs.to_csv(\"sub_lr_gs.csv\", index=False)"
   ]
  },
  {
   "cell_type": "code",
   "execution_count": null,
   "metadata": {
    "collapsed": true
   },
   "outputs": [],
   "source": []
  }
 ],
 "metadata": {
  "kernelspec": {
   "display_name": "Python 3",
   "language": "python",
   "name": "python3"
  },
  "language_info": {
   "codemirror_mode": {
    "name": "ipython",
    "version": 3
   },
   "file_extension": ".py",
   "mimetype": "text/x-python",
   "name": "python",
   "nbconvert_exporter": "python",
   "pygments_lexer": "ipython3",
   "version": "3.6.3"
  }
 },
 "nbformat": 4,
 "nbformat_minor": 2
}
